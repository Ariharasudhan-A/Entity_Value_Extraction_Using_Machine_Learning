{
 "cells": [
  {
   "cell_type": "markdown",
   "metadata": {},
   "source": [
    "# Paddleocr"
   ]
  },
  {
   "cell_type": "code",
   "execution_count": null,
   "metadata": {},
   "outputs": [],
   "source": [
    "import gc\n",
    "import pandas as pd\n",
    "import os\n",
    "from paddleocr import PaddleOCR\n",
    "import time\n",
    "\n",
    "# Initialize PaddleOCR\n",
    "ocr = PaddleOCR(use_gpu=True, use_angle_cls=True, lang='en')\n",
    "\n",
    "# Load the CSV file\n",
    "csv_file = r\"C:\\Users\\ariad\\OneDrive\\Desktop\\Projects\\Entity_extraction\\Data\\test.csv\"\n",
    "data = pd.read_csv(csv_file)\n",
    "\n",
    "batch_size = 25 \n",
    "start_batch_number = 0\n",
    "end_batch_number = 5200  \n",
    "total_rows = len(data)\n",
    "\n",
    "# Function to perform OCR on image paths with error handling\n",
    "def extract_text_from_image(image_path):\n",
    "    try:\n",
    "        if not os.path.exists(image_path):\n",
    "            return 'Image not found'\n",
    "\n",
    "        result = ocr.ocr(image_path, cls=True)\n",
    "        extracted_text = ''\n",
    "        if result is not None and isinstance(result, list):\n",
    "            for line in result:\n",
    "                if isinstance(line, list):\n",
    "                    for word_info in line:\n",
    "                        extracted_text += word_info[1][0] + ' '\n",
    "        return extracted_text.strip() or 'No text found'\n",
    "\n",
    "    except Exception as e:\n",
    "        print(f\"Error processing image {image_path}: {str(e)}\")\n",
    "        return 'Error processing image'\n",
    "\n",
    "# Process batches from 61 to 100\n",
    "batch_number = start_batch_number\n",
    "start_row = batch_number * batch_size\n",
    "\n",
    "while batch_number < end_batch_number and start_row < total_rows:\n",
    "    end_row = min(start_row + batch_size, total_rows)\n",
    "    batch = data.iloc[start_row:end_row]\n",
    "    \n",
    "    try:\n",
    "        # Perform OCR on the batch\n",
    "        batch['extracted_text'] = batch['image location'].apply(extract_text_from_image)\n",
    "        \n",
    "        # Save intermediate results to CSV\n",
    "        output_file = f'D:\\project\\Data\\OCR_test\\ocr_extracted_data_batch_{batch_number}.csv'\n",
    "        batch.to_csv(output_file, index=False, mode='a', header=not os.path.exists(output_file))\n",
    "        \n",
    "        print(f\"Batch {batch_number} processed and saved to {output_file}.\")\n",
    "    \n",
    "    except Exception as e:\n",
    "        # Log batch-level errors and continue\n",
    "        print(f\"Error processing batch {batch_number}: {str(e)}\")\n",
    "        with open('error_log.txt', 'a') as log_file:\n",
    "            log_file.write(f\"Batch {batch_number} failed: {str(e)}\\n\")\n",
    "    \n",
    "    # Free memory\n",
    "    del batch\n",
    "    gc.collect()  # Perform garbage collection to free up memory\n",
    "    time.sleep(0.5)\n",
    "    # Update for the next batch\n",
    "    batch_number += 1\n",
    "    start_row += batch_size"
   ]
  }
 ],
 "metadata": {
  "kernelspec": {
   "display_name": "Python 3",
   "language": "python",
   "name": "python3"
  },
  "language_info": {
   "codemirror_mode": {
    "name": "ipython",
    "version": 3
   },
   "file_extension": ".py",
   "mimetype": "text/x-python",
   "name": "python",
   "nbconvert_exporter": "python",
   "pygments_lexer": "ipython3",
   "version": "3.11.9"
  }
 },
 "nbformat": 4,
 "nbformat_minor": 2
}
